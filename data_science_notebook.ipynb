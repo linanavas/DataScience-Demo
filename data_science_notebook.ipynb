{
  "nbformat": 4,
  "nbformat_minor": 0,
  "metadata": {
    "colab": {
      "provenance": [],
      "toc_visible": true,
      "authorship_tag": "ABX9TyP3W+Pu0etgLtsxVnnP9M/5",
      "include_colab_link": true
    },
    "kernelspec": {
      "name": "python3",
      "display_name": "Python 3"
    },
    "language_info": {
      "name": "python"
    }
  },
  "cells": [
    {
      "cell_type": "markdown",
      "metadata": {
        "id": "view-in-github",
        "colab_type": "text"
      },
      "source": [
        "<a href=\"https://colab.research.google.com/github/linanavas/DataScience-Demo/blob/main/data_science_notebook.ipynb\" target=\"_parent\"><img src=\"https://colab.research.google.com/assets/colab-badge.svg\" alt=\"Open In Colab\"/></a>"
      ]
    },
    {
      "cell_type": "markdown",
      "source": [
        "## Ingest"
      ],
      "metadata": {
        "id": "oEifDVUN4jOk"
      }
    },
    {
      "cell_type": "code",
      "source": [],
      "metadata": {
        "id": "M3aiyzsl4gR3"
      },
      "execution_count": null,
      "outputs": []
    },
    {
      "cell_type": "markdown",
      "source": [
        "## EDA"
      ],
      "metadata": {
        "id": "-8k-0W6F4t_D"
      }
    },
    {
      "cell_type": "code",
      "source": [],
      "metadata": {
        "id": "6EReZcp94w99"
      },
      "execution_count": null,
      "outputs": []
    },
    {
      "cell_type": "markdown",
      "source": [
        "## Modeling"
      ],
      "metadata": {
        "id": "KK-EnwJm46h2"
      }
    },
    {
      "cell_type": "code",
      "source": [],
      "metadata": {
        "id": "kRap0znl455j"
      },
      "execution_count": null,
      "outputs": []
    },
    {
      "cell_type": "markdown",
      "source": [
        "## Conclusion"
      ],
      "metadata": {
        "id": "6P0erpft4_48"
      }
    },
    {
      "cell_type": "code",
      "source": [],
      "metadata": {
        "id": "UE6TMaag5BcH"
      },
      "execution_count": null,
      "outputs": []
    }
  ]
}