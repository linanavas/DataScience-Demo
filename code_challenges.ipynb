{
 "cells": [
  {
   "cell_type": "code",
   "execution_count": 21,
   "id": "a3472f74",
   "metadata": {},
   "outputs": [],
   "source": [
    "import pandas as pd\n",
    "import numpy as np"
   ]
  },
  {
   "cell_type": "code",
   "execution_count": 25,
   "id": "aaa70eb6",
   "metadata": {},
   "outputs": [],
   "source": [
    "# Sort a list\n",
    "def order(x:list, tipo = None):\n",
    "    \n",
    "    x_series = pd.Series(x)\n",
    "    if tipo == 'asc':\n",
    "        x_series.sort_values(inplace = True)\n",
    "    if tipo =='desc':\n",
    "        x_series.sort_values(ascending = False, inplace = True)\n",
    "\n",
    "    result = x_series.to_list()\n",
    "\n",
    "    return result\n",
    "    "
   ]
  },
  {
   "cell_type": "code",
   "execution_count": 45,
   "id": "15752139",
   "metadata": {},
   "outputs": [
    {
     "data": {
      "text/plain": [
       "[1, 2, 2, 5, 3, 1]"
      ]
     },
     "execution_count": 45,
     "metadata": {},
     "output_type": "execute_result"
    }
   ],
   "source": [
    "x = [1,2,2,5,3,1]\n",
    "tipo = 'asc'\n",
    "order(x)"
   ]
  },
  {
   "cell_type": "code",
   "execution_count": 43,
   "id": "8b07647b",
   "metadata": {},
   "outputs": [],
   "source": [
    "# Count the vowels in a string\n",
    "def count_vowels(x:object):\n",
    "    x = x.lower()\n",
    "    x_array = [i for i in x]\n",
    "\n",
    "    vowels = ['a','e','i','o','u']\n",
    "    count_vowels = sum([1 for i in x_array if i in vowels])\n",
    "    return count_vowels"
   ]
  },
  {
   "cell_type": "code",
   "execution_count": 48,
   "id": "f29e6d03",
   "metadata": {},
   "outputs": [
    {
     "data": {
      "text/plain": [
       "12"
      ]
     },
     "execution_count": 48,
     "metadata": {},
     "output_type": "execute_result"
    }
   ],
   "source": [
    "x = 'libia alejandra navas castaño'\n",
    "count_vowels(x)"
   ]
  },
  {
   "cell_type": "code",
   "execution_count": 78,
   "id": "310ab490",
   "metadata": {},
   "outputs": [],
   "source": [
    "# Hide credit card number\n",
    "def hide_card_number(card_number):\n",
    "    list_number = [i for i in str(card_number)]\n",
    "    len_number = len(list_number)\n",
    "    hidden_number = ['*'*(len_number - 4)] + list_number[-4:]\n",
    "    hidden_number = ''.join(hidden_number)\n",
    "    \n",
    "    return hidden_number"
   ]
  },
  {
   "cell_type": "code",
   "execution_count": 79,
   "id": "84aa0e53",
   "metadata": {},
   "outputs": [
    {
     "data": {
      "text/plain": [
       "'********5233'"
      ]
     },
     "execution_count": 79,
     "metadata": {},
     "output_type": "execute_result"
    }
   ],
   "source": [
    "card_number = 784514785233\n",
    "hide_card_number(card_number)"
   ]
  },
  {
   "cell_type": "code",
   "execution_count": 71,
   "id": "a25697ba",
   "metadata": {},
   "outputs": [],
   "source": [
    "# Are the Xs equal to the Os\n",
    "def x_equal_o(w):\n",
    "    count_x = sum([1 for i in w if i =='x'])\n",
    "    count_o = sum([1 for i in w if i =='o'])\n",
    "    return count_x == count_o"
   ]
  },
  {
   "cell_type": "code",
   "execution_count": 75,
   "id": "c71eed65",
   "metadata": {},
   "outputs": [
    {
     "data": {
      "text/plain": [
       "True"
      ]
     },
     "execution_count": 75,
     "metadata": {},
     "output_type": "execute_result"
    }
   ],
   "source": [
    "w = 'casa'\n",
    "x_equal_o(w)"
   ]
  },
  {
   "cell_type": "code",
   "execution_count": 81,
   "id": "de15b0aa",
   "metadata": {},
   "outputs": [],
   "source": [
    "def calculator(a,operator,b):\n",
    "    if operator == '+':\n",
    "        return a + b\n",
    "    if operator == '-':\n",
    "        return a - b\n",
    "    if operator == '/':\n",
    "        return a / b\n",
    "    if operator == '.':\n",
    "        return a * b"
   ]
  },
  {
   "cell_type": "code",
   "execution_count": 85,
   "id": "58789e48",
   "metadata": {},
   "outputs": [
    {
     "data": {
      "text/plain": [
       "12"
      ]
     },
     "execution_count": 85,
     "metadata": {},
     "output_type": "execute_result"
    }
   ],
   "source": [
    "a = 3\n",
    "operator = '.'\n",
    "b = 4\n",
    "calculator(a,operator,b)"
   ]
  },
  {
   "cell_type": "code",
   "execution_count": 86,
   "id": "d7be3d60",
   "metadata": {},
   "outputs": [],
   "source": [
    "# Just the numbers\n",
    "def keep_numbers(x):\n",
    "    return [i for i in x if type(i)==int]"
   ]
  },
  {
   "cell_type": "code",
   "execution_count": 88,
   "id": "aaab2f88",
   "metadata": {},
   "outputs": [
    {
     "data": {
      "text/plain": [
       "[3, 4]"
      ]
     },
     "execution_count": 88,
     "metadata": {},
     "output_type": "execute_result"
    }
   ],
   "source": [
    "x = ['hola',3,'como',4]\n",
    "keep_numbers(x)"
   ]
  },
  {
   "cell_type": "code",
   "execution_count": 91,
   "id": "fef6b962",
   "metadata": {},
   "outputs": [],
   "source": [
    "## Repeat the characters\n",
    "def repeat_characters(x):\n",
    "    x_list = [i*2 for i in x]\n",
    "    x_repeat = ''.join(x_list)\n",
    "    return x_repeat"
   ]
  },
  {
   "cell_type": "code",
   "execution_count": 93,
   "id": "7d82fabc",
   "metadata": {},
   "outputs": [
    {
     "data": {
      "text/plain": [
       "'nnooww'"
      ]
     },
     "execution_count": 93,
     "metadata": {},
     "output_type": "execute_result"
    }
   ],
   "source": [
    "x = 'now'\n",
    "repeat_characters(x)"
   ]
  }
 ],
 "metadata": {
  "kernelspec": {
   "display_name": "scorpius",
   "language": "python",
   "name": "python3"
  },
  "language_info": {
   "codemirror_mode": {
    "name": "ipython",
    "version": 3
   },
   "file_extension": ".py",
   "mimetype": "text/x-python",
   "name": "python",
   "nbconvert_exporter": "python",
   "pygments_lexer": "ipython3",
   "version": "3.7.11"
  }
 },
 "nbformat": 4,
 "nbformat_minor": 5
}
